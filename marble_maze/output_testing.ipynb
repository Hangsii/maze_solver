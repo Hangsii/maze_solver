{
 "cells": [
  {
   "cell_type": "code",
   "execution_count": null,
   "outputs": [],
   "source": [
    "from pathlib import Path\n",
    "\n",
    "from autopather import load_photo"
   ],
   "metadata": {
    "collapsed": false
   },
   "id": "2255c40bdd7a68ea"
  },
  {
   "cell_type": "code",
   "execution_count": null,
   "outputs": [],
   "source": [
    "src_root = Path().resolve()\n",
    "\n",
    "outdir = src_root / \"output\"\n",
    "outpath = outdir / \"cost.png\"\n",
    "load_photo(outpath)"
   ],
   "metadata": {
    "collapsed": false
   },
   "id": "4454a6a88c231089"
  },
  {
   "cell_type": "code",
   "execution_count": null,
   "outputs": [],
   "source": [
    "# csv format\n",
    "outpath = outdir / \"cost.csv\"\n",
    "import numpy as np\n",
    "\n",
    "cost_grid = np.loadtxt(outpath, delimiter='\\t')\n",
    "cost_grid"
   ],
   "metadata": {
    "collapsed": false
   },
   "id": "507a63fea2646d9f"
  }
 ],
 "metadata": {
  "kernelspec": {
   "display_name": "Python 3",
   "language": "python",
   "name": "python3"
  },
  "language_info": {
   "codemirror_mode": {
    "name": "ipython",
    "version": 2
   },
   "file_extension": ".py",
   "mimetype": "text/x-python",
   "name": "python",
   "nbconvert_exporter": "python",
   "pygments_lexer": "ipython2",
   "version": "2.7.6"
  }
 },
 "nbformat": 4,
 "nbformat_minor": 5
}
