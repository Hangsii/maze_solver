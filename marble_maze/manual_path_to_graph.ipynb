{
 "cells": [
  {
   "cell_type": "code",
   "execution_count": null,
   "id": "initial_id",
   "metadata": {},
   "outputs": [],
   "source": [
    "from pathlib import Path\n",
    "import cv2\n",
    "import matplotlib.pyplot as plt\n",
    "import numpy as np\n",
    "\n",
    "\n",
    "src_root = Path().resolve()\n",
    "list(src_root.iterdir())"
   ]
  },
  {
   "cell_type": "code",
   "execution_count": null,
   "id": "6064ba57af7503ae",
   "metadata": {
    "collapsed": false
   },
   "outputs": [],
   "source": [
    "default_img_path = src_root / \"data\" / \"maze.png\"\n",
    "def load_photo(img_path = default_img_path):\n",
    "    image = cv2.imread(str(img_path))\n",
    "    return image"
   ]
  },
  {
   "cell_type": "code",
   "execution_count": null,
   "id": "31fbf2531ec1f19f",
   "metadata": {
    "collapsed": false
   },
   "outputs": [],
   "source": [
    "maze_path_manual = load_photo(src_root / \"data\" / \"maze_path_manual.png\")"
   ]
  },
  {
   "cell_type": "code",
   "execution_count": null,
   "id": "c70f69ece4e3f4ea",
   "metadata": {
    "collapsed": false
   },
   "outputs": [],
   "source": [
    "mini_maze_path = cv2.resize(maze_path_manual, None, fx=0.1, fy=0.1, interpolation=cv2.INTER_LINEAR)"
   ]
  },
  {
   "cell_type": "markdown",
   "id": "8f43d0baa1a9d217",
   "metadata": {
    "collapsed": false
   },
   "source": []
  },
  {
   "cell_type": "code",
   "execution_count": null,
   "id": "a3f922c4244d36ec",
   "metadata": {
    "collapsed": false
   },
   "outputs": [],
   "source": [
    "def viz(cv_img):\n",
    "    plt.imshow(cv_img)\n",
    "    plt.show()\n",
    "\n",
    "viz(maze_path_manual)"
   ]
  },
  {
   "cell_type": "code",
   "execution_count": null,
   "id": "6a69fa4464ef6acd",
   "metadata": {
    "collapsed": false
   },
   "outputs": [],
   "source": [
    "viz(maze_path_manual[:, :, 2])"
   ]
  },
  {
   "cell_type": "code",
   "execution_count": null,
   "id": "bd2b692d12403e7a",
   "metadata": {
    "collapsed": false
   },
   "outputs": [],
   "source": [
    "viz(mini_maze_path)"
   ]
  },
  {
   "cell_type": "code",
   "execution_count": null,
   "id": "4774cae30a45001e",
   "metadata": {
    "collapsed": false
   },
   "outputs": [],
   "source": [
    "from typing import Set\n",
    "bug_counter = 0\n",
    "\n",
    "def get_unvisited_neighbours(element, matrix_shape, visited_set, frontier_set):\n",
    "    # assume 2D matrix and that we are checking immediate neighbours - a 3*3 receptive field\n",
    "    x_current, y_current = element\n",
    "    x_end, y_end = matrix_shape\n",
    "    \n",
    "    # use +2 for upper bound to work around range behaviour at upper limits\n",
    "    x_range = range(max(x_current-1,0),min(x_current+2,x_end))\n",
    "    y_range = range(max(y_current-1,0),min(y_current+2,y_end))\n",
    "    \n",
    "    elements_to_visit = []\n",
    "    for x in x_range:\n",
    "        for y in y_range:\n",
    "            if x == x_current and y == y_current:\n",
    "                # do not readd the current node\n",
    "                continue\n",
    "            elif (x, y) in frontier_set:\n",
    "                # do not schedule for multiple visits\n",
    "                continue\n",
    "            elif (x, y) not in visited_set:\n",
    "                elements_to_visit.append((x, y))\n",
    "            else:\n",
    "                pass\n",
    "    assert len(elements_to_visit) < 9, f\"Too many neighbouring elements returned for a 2D pixel! {len(elements_to_visit)}\" \n",
    "    return elements_to_visit\n",
    "\n",
    "\n",
    "def create_fitness_score(element, difficulty_map, output_values):\n",
    "    # assume 2D matrix and that we are checking immediate neighbours - a 3*3 receptive field\n",
    "    global bug_counter\n",
    "    x_current, y_current = element\n",
    "    x_end, y_end = output_values.shape\n",
    "    \n",
    "    x_range = range(max(x_current-1,0),min(x_current+1,x_end))\n",
    "    y_range = range(max(y_current-1,0),min(y_current+1,y_end))\n",
    "\n",
    "    # distance penalty: lower on the prescribed path:\n",
    "    # RGB -> red is idx 0\n",
    "    is_red = bool(difficulty_map[x_current, y_current, 0])\n",
    "    is_green = bool(difficulty_map[x_current, y_current, 1])\n",
    "    is_blue = bool(difficulty_map[x_current, y_current, 2])\n",
    "    if is_blue:\n",
    "        penalty = 0\n",
    "    elif is_red or is_green:\n",
    "        penalty = 0.001\n",
    "    else:\n",
    "        penalty = 1\n",
    "    \n",
    "    # take the minimum score of any neighbour then add the distance penalty\n",
    "    # use filter to remove None i.e. unvisited neighbours. These can be ignored as \n",
    "    # they will always be more expensive than earlier nodes.        \n",
    "    \n",
    "    element_score = None\n",
    "    for x in x_range:\n",
    "        for y in y_range:\n",
    "            if output_values[x, y] != np.inf:  # 0 is valid\n",
    "                candidate_score = output_values[x, y] + penalty\n",
    "                if element_score is None or element_score > candidate_score:\n",
    "                    # update\n",
    "                    element_score = candidate_score\n",
    "                    if x == x_current and y == y_current:\n",
    "                        print(f\"found best value already in place! This should happen once. {bug_counter}\")\n",
    "                        if bug_counter > 0:\n",
    "                            breakpoint\n",
    "                        bug_counter = bug_counter + 1\n",
    "                    \n",
    "    assert element_score != np.inf\n",
    "    assert element_score is not None\n",
    "    return element_score\n",
    "\n",
    "\n",
    "from tqdm import tqdm, trange\n",
    "from functools import reduce\n",
    "\n",
    "def generic_search_algorithm(frontier, visited_set: Set, difficulty_map, output_values):\n",
    "    # frontier_set = set(frontier)\n",
    "    matrix_shape = output_values.shape\n",
    "    \n",
    "    # tqdm progress bar up to the number of pixels\n",
    "    total_pixels = reduce(lambda x, y: x*y,matrix_shape, 1)\n",
    "    print(total_pixels)\n",
    "    progress = trange(total_pixels)\n",
    "    progress_iterator = iter(progress)\n",
    "    \n",
    "    for element in frontier:\n",
    "        # frontier_set.remove(element)  # actually not necessary - used as a preset for visited status\n",
    "        # print(element)\n",
    "        output_values[element] = create_fitness_score(element, difficulty_map, output_values)\n",
    "        \n",
    "        # Visit complete, come again soon!\n",
    "        visited_set.add(element)\n",
    "        \n",
    "        unvisited_neighbours = get_unvisited_neighbours(element, matrix_shape, visited_set, frontier)\n",
    "        \n",
    "        # visited_set[element] = 1\n",
    "        # breadth first search - elements are added to the back of the frontier queue\n",
    "        # [frontier_set.add(neighbour) for neighbour in unvisited_neighbours]\n",
    "        frontier.extend(unvisited_neighbours)\n",
    "        # print(f\"Frontier size: {len(frontier)}\")\n",
    "        # print(f\"Visited Set size: {len(visited_set)}\")\n",
    "        \n",
    "        next(progress_iterator)\n",
    "    progress.close()\n",
    "    \n",
    "    return output_values\n",
    "\n",
    "\n",
    "def make_naive_graph_path(maze_path_img):\n",
    "    \n",
    "    # start with the blue endzone\n",
    "    endzone = maze_path_img[:, :, 2]\n",
    "    # Step 1: Prepare a blank image\n",
    "    score_matrix = np.full(endzone.shape[:2], dtype=\"float64\", fill_value=np.inf)  # Creating a black canvas\n",
    "    # score_matrix = np.empty(endzone.shape[:2], dtype=\"float64\", cval=np.inf)  # Creating a black canvas\n",
    "    # visited_matrix = np.zeros(endzone.shape[:2], dtype=\"uint8\")  # Creating a black canvas\n",
    "    \n",
    "    # = np.full((2, 2), None)  # np.inf\n",
    "\n",
    "    endzone_xs, endzone_ys = np.where(endzone)\n",
    "    # any pixel in the endzone will do\n",
    "    seed_pixel_coords = (endzone_xs[0], endzone_ys[0])\n",
    "    score_matrix[seed_pixel_coords] = 0\n",
    "    # visited_matrix[seed_pixel_coords] = 1\n",
    "    \n",
    "    visited_set = set()\n",
    "    # Make the frontier a dictionary so we can check membership efficiently and also keep the order of appendage\n",
    "    # frontier = defaultdict()\n",
    "    # frontier[seed_pixel_coords]=None\n",
    "\n",
    "    # print(seed_pixel_coords)\n",
    "    scored_pixels = generic_search_algorithm(frontier=[seed_pixel_coords], visited_set=visited_set, difficulty_map=maze_path_img, output_values=score_matrix)\n",
    "    \n",
    "    return scored_pixels \n",
    "\n",
    "# gradient_map = make_naive_graph_path(maze_path_manual)\n",
    "gradient_map = make_naive_graph_path(mini_maze_path)\n",
    "viz(gradient_map)"
   ]
  },
  {
   "cell_type": "code",
   "execution_count": null,
   "id": "149612870c7efa0a",
   "metadata": {
    "collapsed": false
   },
   "outputs": [],
   "source": [
    "480 * 640"
   ]
  },
  {
   "cell_type": "code",
   "execution_count": null,
   "id": "1cc619b85db38f05",
   "metadata": {
    "collapsed": false
   },
   "outputs": [],
   "source": [
    "# gradient_map_scaled = gradient_map * 255.0/gradient_map.max()\n",
    "\n",
    "# Normalize image to between 0 and 255\n",
    "# gradient_map_scaled = gradient_map/(gradient_map.max()/1024.0)\n"
   ]
  },
  {
   "cell_type": "code",
   "execution_count": null,
   "id": "38289467bad0eac",
   "metadata": {
    "collapsed": false
   },
   "outputs": [],
   "source": [
    "import pandas as pd\n",
    "pd.DataFrame(gradient_map)"
   ]
  },
  {
   "cell_type": "code",
   "execution_count": null,
   "id": "e38b2a70b0dc60b6",
   "metadata": {
    "collapsed": false
   },
   "outputs": [],
   "source": [
    "gradient_map.max()"
   ]
  },
  {
   "cell_type": "code",
   "execution_count": null,
   "id": "e964f33d6fbb14d4",
   "metadata": {
    "collapsed": false
   },
   "outputs": [],
   "source": [
    "viz(gradient_map)"
   ]
  },
  {
   "cell_type": "code",
   "execution_count": null,
   "id": "c2c07481e9550780",
   "metadata": {
    "collapsed": false
   },
   "outputs": [],
   "source": [
    "endzone = maze_path_manual[:, :, 2]"
   ]
  },
  {
   "cell_type": "code",
   "execution_count": null,
   "id": "f45ce5f3e6086bfa",
   "metadata": {
    "collapsed": false
   },
   "outputs": [],
   "source": [
    "maze_path_manual.shape"
   ]
  }
 ],
 "metadata": {
  "kernelspec": {
   "display_name": "Python 3 (ipykernel)",
   "language": "python",
   "name": "python3"
  },
  "language_info": {
   "codemirror_mode": {
    "name": "ipython",
    "version": 3
   },
   "file_extension": ".py",
   "mimetype": "text/x-python",
   "name": "python",
   "nbconvert_exporter": "python",
   "pygments_lexer": "ipython3",
   "version": "3.9.18"
  }
 },
 "nbformat": 4,
 "nbformat_minor": 5
}
